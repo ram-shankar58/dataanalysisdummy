import pandas as pd
from sklearn.ensemble import RandomForestClassifier
from sklearn.metrics import confusion_matrix, classification_report
import seaborn as sns
import matplotlib.pyplot as plt
from sklearn.impute import SimpleImputer

# Load the file from your Google Drive
file_path = '/content/drive/My Drive/Colab Notebooks/train.csv'

# Read the CSV file
df = pd.read_csv(file_path)

# Select only numeric columns for imputation
numeric_columns = df.select_dtypes(include=['number'])

# Handle missing values by imputing with the mean
imputer = SimpleImputer(strategy='mean')
df_imputed = imputer.fit_transform(numeric_columns)

# Convert the imputed data back to a DataFrame
df_imputed = pd.DataFrame(df_imputed, columns=numeric_columns.columns)

# Combine the imputed numeric data with the non-numeric columns
df[df_imputed.columns] = df_imputed

# Select the columns you want for modeling (including both numeric and categorical)
selected_columns = ['ph_no', 'cvv', 'credit_card_number', '6aHwr', 'CbKM4', 'PwJxl', 'rWVvg', '98Zw0', '9buXh', 'state']
df = df[selected_columns]

# Split the data into features (X) and target variable (y)
X = df.drop(columns=['state'])  # Features
y = df['state']  # Target variable

# Train a Random Forest classifier on the entire dataset
model = RandomForestClassifier()
model.fit(X, y)

# The model is now trained on the entire dataset
from joblib import dump

# Save the trained model to a file
model_filename = 'trained_random_forest_model.joblib'
dump(model, model_filename)

print(f'Trained model saved to {model_filename}')

