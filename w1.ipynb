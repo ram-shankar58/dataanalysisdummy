import pandas as pd
from sklearn.model_selection import train_test_split
from sklearn.ensemble import RandomForestClassifier
from sklearn.metrics import confusion_matrix, classification_report
import seaborn as sns
import matplotlib.pyplot as plt

# Load the file from your Google Drive
file_path = '/content/drive/My Drive/Colab Notebooks/train.csv'
selected_columns = ['ph_no', 'cvv', 'credit_card_number', '6aHwr', 'CbKM4', 'PwJxl', 'rWVvg', '98Zw0', '9buXh', 'state']

# Read only the selected columns from the CSV file
df = pd.read_csv(file_path, usecols=selected_columns)

# Handle missing values by imputing with the median
df.fillna(df.median(), inplace=True)

# Split data into training and testing sets
X = df.drop(columns=['state'])  # Features
y = df['state']  # Target variable

X_train, X_test, y_train, y_test = train_test_split(X, y, test_size=0.2, random_state=42)

# Train a Random Forest classifier
model = RandomForestClassifier()
model.fit(X_train, y_train)

# Evaluate the model
accuracy = model.score(X_test, y_test)
print(f'Accuracy: {accuracy}')

# Generate predictions
y_pred = model.predict(X_test)

# Create a labeled confusion matrix
cm = confusion_matrix(y_test, y_pred)

# Plot the confusion matrix
plt.figure(figsize=(8, 6))
sns.heatmap(cm, annot=True, cmap='Blues', fmt='d', xticklabels=model.classes_, yticklabels=model.classes_)
plt.xlabel('Predicted')
plt.ylabel('Actual')
plt.title('Confusion Matrix')

# Display classification report
class_report = classification_report(y_test, y_pred, target_names=model.classes_)
print('Classification Report:\n', class_report)

plt.show()
