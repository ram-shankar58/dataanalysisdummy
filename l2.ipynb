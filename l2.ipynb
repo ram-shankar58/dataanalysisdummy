import pandas as pd
from sklearn.ensemble import RandomForestClassifier
from sklearn.metrics import confusion_matrix, classification_report
import seaborn as sns
import matplotlib.pyplot as plt
from sklearn.impute import SimpleImputer
from joblib import dump

# Load the training file
train_file_path = '/kaggle/input/gdsc-recruitments-2023/train.csv'
df_train = pd.read_csv(train_file_path)

# Select only numeric columns for imputation
numeric_columns = df_train.select_dtypes(include=['number'])

# Handle missing values by imputing with the mean
imputer = SimpleImputer(strategy='mean')
df_imputed_train = imputer.fit_transform(numeric_columns)

# Convert the imputed data back to a DataFrame
df_imputed_train = pd.DataFrame(df_imputed_train, columns=numeric_columns.columns)

# Combine the imputed numeric data with the non-numeric columns
df_train[df_imputed_train.columns] = df_imputed_train

# Select the columns for modeling (including both numeric and categorical)
selected_columns = ['ph_no', 'cvv', 'credit_card_number', '6aHwr', 'CbKM4', 'PwJxl', 'rWVvg', '98Zw0', '9buXh', 'state']
df_train = df_train[selected_columns]

# Split the training data into features (X) and target variable (y)
X_train = df_train.drop(columns=['state'])  # Features
y_train = df_train['state']  # Target variable

# Train a Random Forest classifier on the entire training dataset
model = RandomForestClassifier()
model.fit(X_train, y_train)

# Save the trained model to a file
model_filename = 'trained_random_forest_model.joblib'
dump(model, model_filename)

print(f'Trained model saved to {model_filename}')

# Load the test data
test_file_path = '/kaggle/input/gdsc-recruitments-2023/test_corrected.csv'
df_test = pd.read_csv(test_file_path)

# Select the same columns as in the training data (excluding 'state' as it's not present in the test data)
df_test = df_test[selected_columns[:-1]]

# Handle missing values in the test data
numeric_columns_test = df_test.select_dtypes(include=['number'])
df_imputed_test = imputer.transform(numeric_columns_test)
df_imputed_test = pd.DataFrame(df_imputed_test, columns=numeric_columns_test.columns)
df_test[df_imputed_test.columns] = df_imputed_test

# Make predictions
predictions = model.predict(df_test)

# Create a DataFrame with the ID and the predicted states
df_predictions = pd.DataFrame({
    'ID': df_test['ph_no'],  # Assuming 'ph_no' is the ID column in the test data
    'state': predictions
})

# Save the predictions to a CSV file
predictions_file_path = 'predictions.csv'
df_predictions.to_csv(predictions_file_path, index=False)
print(f'Predictions saved to {predictions_file_path}')

# Display the predictions
print(df_predictions)
